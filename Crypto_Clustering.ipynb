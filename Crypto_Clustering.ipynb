{
 "cells": [
  {
   "cell_type": "code",
   "execution_count": null,
   "metadata": {},
   "outputs": [],
   "source": [
    "# Import the required modules\n",
    "import pandas as pd\n",
    "pd.set_option('display.max_columns', None)\n",
    "import numpy as np\n",
    "\n",
    "# visualization\n",
    "import matplotlib.pyplot as plt\n",
    "import hvplot.pandas\n",
    "\n",
    "# Machine Learning\n",
    "from sklearn.cluster import KMeans, AgglomerativeClustering, Birch\n",
    "from sklearn.metrics import silhouette_score, calinski_harabasz_score\n",
    "from sklearn.preprocessing import StandardScaler, MinMaxScaler\n",
    "from sklearn.decomposition import PCA\n",
    "\n",
    "# suppress warnings\n",
    "import warnings\n",
    "warnings.filterwarnings('ignore')"
   ]
  },
  {
   "cell_type": "code",
   "execution_count": null,
   "metadata": {},
   "outputs": [],
   "source": [
    "# Load the data into a Pandas DataFrame\n",
    "df = pd.read_csv(\n",
    "    \"Resources/crypto_market_data.csv\",\n",
    "    index_col=\"coin_id\")\n",
    "\n",
    "# Display sample data\n",
    "df.head(10)"
   ]
  },
  {
   "cell_type": "code",
   "execution_count": null,
   "metadata": {},
   "outputs": [],
   "source": [
    "# Generate summary statistics\n",
    "df.describe()"
   ]
  },
  {
   "cell_type": "code",
   "execution_count": null,
   "metadata": {},
   "outputs": [],
   "source": [
    "# Plot your data to see what's in your DataFrame\n",
    "df.hvplot.line(\n",
    "    width=800,\n",
    "    height=400,\n",
    "    rot=90\n",
    ")"
   ]
  },
  {
   "attachments": {},
   "cell_type": "markdown",
   "metadata": {},
   "source": [
    "---"
   ]
  },
  {
   "attachments": {},
   "cell_type": "markdown",
   "metadata": {},
   "source": [
    "### Prepare the Data"
   ]
  },
  {
   "cell_type": "code",
   "execution_count": null,
   "metadata": {},
   "outputs": [],
   "source": [
    "# Use the `StandardScaler()` module from scikit-learn to normalize the data from the CSV file\n",
    "# initialize\n",
    "scaler = StandardScaler()\n",
    "\n",
    "# fit\n",
    "scaler.fit(df)\n",
    "\n",
    "# predict/transform\n",
    "scaled_data = scaler.transform(df)"
   ]
  },
  {
   "cell_type": "code",
   "execution_count": null,
   "metadata": {},
   "outputs": [],
   "source": [
    "# Create a DataFrame with the scaled data\n",
    "# Copy the crypto names from the original data\n",
    "df_scaled = pd.DataFrame(scaled_data, columns=df.columns)\n",
    "\n",
    "# Set the coinid column as index\n",
    "df_scaled.set_index(df.index, inplace=True)\n",
    "\n",
    "# Display sample data\n",
    "df_scaled.head(10) "
   ]
  },
  {
   "attachments": {},
   "cell_type": "markdown",
   "metadata": {},
   "source": [
    "---"
   ]
  },
  {
   "attachments": {},
   "cell_type": "markdown",
   "metadata": {},
   "source": [
    "### Find the Best Value for k Using the Scaled Data."
   ]
  },
  {
   "cell_type": "markdown",
   "metadata": {},
   "source": [
    "#### Elbow Curve A: Inertia Only, Range 1 to 11"
   ]
  },
  {
   "cell_type": "code",
   "execution_count": null,
   "metadata": {},
   "outputs": [],
   "source": [
    "# Define your \"X\" - features to predict\n",
    "X = df_scaled"
   ]
  },
  {
   "cell_type": "code",
   "execution_count": null,
   "metadata": {},
   "outputs": [],
   "source": [
    "# Create an empty list to store the inertia values\n",
    "inertia_a = []\n",
    "\n",
    "# Create a list with the number of k-values from 1 to 11\n",
    "k_a = list(range(1, 11))\n",
    "\n",
    "# Create a for loop to compute the inertia with each possible value of k\n",
    "# Inside the loop:\n",
    "for i in k_a:\n",
    "    # 1. Create a KMeans model using the loop counter for the n_clusters\n",
    "    k_a_model = KMeans(n_clusters=i, random_state=1)\n",
    "    \n",
    "    # 2. Fit the model to the data using `df_scaled`\n",
    "    k_a_model.fit(X)\n",
    "    \n",
    "    # predict the model\n",
    "    preds_a = k_a_model.predict(X)\n",
    "    \n",
    "    # 3. Append the model.inertia_ to the inertia list\n",
    "    inertia_a.append(k_a_model.inertia_)\n",
    "\n",
    "    \n",
    "    print(f\"Finished {i} out of {max(k_a)}\")"
   ]
  },
  {
   "cell_type": "code",
   "execution_count": null,
   "metadata": {},
   "outputs": [],
   "source": [
    "# Define a DataFrame to hold the values for k and the corresponding inertia\n",
    "elbow_data_a = {\"k\": k_a, \"inertia\": inertia_a}\n",
    "df_elbow_a = pd.DataFrame(elbow_data_a)\n",
    "\n",
    "df_elbow_a[\"acc\"] = df_elbow_a.inertia.diff()\n",
    "\n",
    "# Review the DataFrame\n",
    "df_elbow_a.head(20)"
   ]
  },
  {
   "cell_type": "code",
   "execution_count": null,
   "metadata": {},
   "outputs": [],
   "source": [
    "# Plot a line chart with all the inertia values computed with \n",
    "# the different values of k to visually identify the optimal value for k.\n",
    "# using matplotlib\n",
    "plt.plot(df_elbow_a[\"k\"], df_elbow_a[\"inertia\"])\n",
    "plt.title(\"Elbow Curve A\")\n",
    "plt.xticks(df_elbow_a[\"k\"])\n",
    "plt.ylabel(\"inertia\")\n",
    "plt.xlabel(\"k\")\n",
    "plt.show()"
   ]
  },
  {
   "cell_type": "code",
   "execution_count": null,
   "metadata": {},
   "outputs": [],
   "source": [
    "# Plot a line chart with all the inertia values computed with \n",
    "# the different values of k to visually identify the optimal value for k.\n",
    "# using hv plot\n",
    "elbow_plot = df_elbow_a.hvplot.line(\n",
    "    width=600,\n",
    "    height=400,\n",
    "    x=\"k\", \n",
    "    y=\"inertia\", \n",
    "    title=\"Elbow Curve Using Scaled Data\", \n",
    "    xticks=\"k\")\n",
    "elbow_plot"
   ]
  },
  {
   "cell_type": "markdown",
   "metadata": {},
   "source": [
    "### Elbow Curve B: Inertia, Silhouette & Calinski Harabasz, Range 2 to 20 "
   ]
  },
  {
   "cell_type": "code",
   "execution_count": null,
   "metadata": {},
   "outputs": [],
   "source": [
    "# Define \"X\" - features to predict\n",
    "X = df_scaled"
   ]
  },
  {
   "cell_type": "code",
   "execution_count": null,
   "metadata": {},
   "outputs": [],
   "source": [
    "#Booth's way\n",
    "# Create an empty list to store the inertia values\n",
    "inertia = []\n",
    "silhouettes = []\n",
    "cha_chas = []\n",
    "\n",
    "# Create a list with the number of k-values from 2 to 20\n",
    "k = list(range(2, 20))\n",
    "\n",
    "# Create a for loop to compute the inertia with each possible value of k\n",
    "# Inside the loop:\n",
    "for i in k:\n",
    "    # 1. Create a KMeans model using the loop counter for the n_clusters\n",
    "    k_model = KMeans(n_clusters=i, random_state=1)\n",
    "    \n",
    "    # 2. Fit the model to the data using `df_scaled`\n",
    "    k_model.fit(X)\n",
    "    \n",
    "    # predict the model\n",
    "    preds = k_model.predict(X)\n",
    "    \n",
    "    # 3. Append the inertia, silhouete and cha scores to their lists\n",
    "    inertia.append(k_model.inertia_)\n",
    "    score = silhouette_score(X, preds)\n",
    "    silhouettes.append(score)\n",
    "    \n",
    "    cha_cha = calinski_harabasz_score(X, preds)\n",
    "    cha_chas.append(cha_cha)\n",
    "    \n",
    "    print(f\"Finished {i} out of {max(k)}\")"
   ]
  },
  {
   "cell_type": "code",
   "execution_count": null,
   "metadata": {},
   "outputs": [],
   "source": [
    "# Create a dictionary with the data to plot the Elbow curve\n",
    "# Define a DataFrame to hold the values for k and the corresponding inertia\n",
    "elbow_data = {\"k\": k, \"inertia\": inertia, \"silhouette_score\": silhouettes, \"cha_score\": cha_chas}\n",
    "df_elbow = pd.DataFrame(elbow_data)\n",
    "\n",
    "df_elbow[\"acc\"] = df_elbow.inertia.diff()\n",
    "\n",
    "# Review the DataFrame\n",
    "df_elbow.head(20)"
   ]
  },
  {
   "cell_type": "code",
   "execution_count": null,
   "metadata": {},
   "outputs": [],
   "source": [
    "# Plot a line chart with all the inertia values computed with \n",
    "# the different values of k to visually identify the optimal value for k.\n",
    "plt.plot(df_elbow[\"k\"], df_elbow[\"inertia\"])\n",
    "plt.title(\"Elbow Curve B\")\n",
    "plt.xticks(df_elbow[\"k\"])\n",
    "plt.ylabel(\"inertia\")\n",
    "plt.xlabel(\"k\")\n",
    "plt.show()"
   ]
  },
  {
   "attachments": {},
   "cell_type": "markdown",
   "metadata": {},
   "source": [
    "#### Answer the following question: \n",
    "\n",
    "**Question:** What is the best value for `k`?\n",
    "\n",
    "**Answer:** 4"
   ]
  },
  {
   "attachments": {},
   "cell_type": "markdown",
   "metadata": {},
   "source": [
    "---"
   ]
  },
  {
   "attachments": {},
   "cell_type": "markdown",
   "metadata": {},
   "source": [
    "### Cluster Cryptocurrencies with K-means Using the Scaled Data"
   ]
  },
  {
   "cell_type": "code",
   "execution_count": null,
   "metadata": {},
   "outputs": [],
   "source": [
    "df_sub = df_scaled.copy()\n",
    "\n",
    "# Define the model with the higher value of k clusters\n",
    "# Use a random_state of 1 to generate the model\n",
    "\n",
    "# Initialize the K-Means model using the best value for k\n",
    "model = KMeans(n_clusters=4, random_state=1)\n",
    "\n",
    "# Fit the K-Means model using the scaled data\n",
    "model.fit(X)\n",
    "\n",
    "# Predict the clusters to group the cryptocurrencies using the scaled data\n",
    "preds = model.predict(X)\n",
    "\n",
    "# Print the resulting array of cluster values.\n",
    "print(preds)"
   ]
  },
  {
   "cell_type": "code",
   "execution_count": null,
   "metadata": {},
   "outputs": [],
   "source": [
    "# Create a copy of the DataFrame\n",
    "df_sub2 = df_sub.copy()\n",
    "\n",
    "# Add a new column to the DataFrame with the predicted clusters\n",
    "df_sub2['clusters'] = preds\n",
    "\n",
    "# Display sample data\n",
    "df_sub2.head()"
   ]
  },
  {
   "cell_type": "code",
   "execution_count": null,
   "metadata": {},
   "outputs": [],
   "source": [
    "# Create a scatter plot using hvPlot by setting \n",
    "# `x=\"price_change_percentage_24h\"` and `y=\"price_change_percentage_7d\"`. \n",
    "# Color the graph points with the labels found using K-Means and \n",
    "# add the crypto name in the `hover_cols` parameter to identify \n",
    "# the cryptocurrency represented by each data point.\n",
    "scatter_plot = df_sub2.hvplot.scatter(\n",
    "    width=600,\n",
    "    height=400,\n",
    "    x=\"price_change_percentage_24h\",\n",
    "    y=\"price_change_percentage_7d\",\n",
    "    c=\"clusters\",\n",
    "    colormap='rainbow', #colormap, chat gbt\n",
    "    hover_cols=['coin_id']).opts(bgcolor='darkgray') # background, chat gbt\n",
    "scatter_plot"
   ]
  },
  {
   "attachments": {},
   "cell_type": "markdown",
   "metadata": {},
   "source": [
    "---"
   ]
  },
  {
   "attachments": {},
   "cell_type": "markdown",
   "metadata": {},
   "source": [
    "### Optimize Clusters with Principal Component Analysis."
   ]
  },
  {
   "cell_type": "code",
   "execution_count": null,
   "metadata": {},
   "outputs": [],
   "source": [
    "# Create a PCA model instance and set `n_components=3`.\n",
    "n_components = 3\n",
    "pca=PCA(n_components=n_components)"
   ]
  },
  {
   "cell_type": "code",
   "execution_count": null,
   "metadata": {},
   "outputs": [],
   "source": [
    "# Use the PCA model with `fit_transform` to reduce to \n",
    "# three principal components.\n",
    "pca_data = pca.fit_transform(df_scaled)\n",
    "\n",
    "print(pca_data)"
   ]
  },
  {
   "cell_type": "code",
   "execution_count": null,
   "metadata": {},
   "outputs": [],
   "source": [
    "# Retrieve the explained variance to determine how much information \n",
    "# can be attributed to each principal component.\n",
    "explained_variance_ratio = pca.explained_variance_ratio_\n",
    "\n",
    "print(explained_variance_ratio)"
   ]
  },
  {
   "cell_type": "code",
   "execution_count": null,
   "metadata": {},
   "outputs": [],
   "source": [
    "sum(explained_variance_ratio[0:])"
   ]
  },
  {
   "attachments": {},
   "cell_type": "markdown",
   "metadata": {},
   "source": [
    "#### Answer the following question: \n",
    "\n",
    "**Question:** What is the total explained variance of the three principal components?\n",
    "\n",
    "**Answer:** 0.8950316570309842"
   ]
  },
  {
   "cell_type": "code",
   "execution_count": null,
   "metadata": {},
   "outputs": [],
   "source": [
    "# Create a new DataFrame with the PCA data.\n",
    "df_pca = pd.DataFrame(pca_data, columns=[\"PC\" + str(x) for x in range(1, n_components + 1)])\n",
    "\n",
    "# Copy the crypto names from the original data\n",
    "names = df_scaled.index\n",
    "\n",
    "# Set the coinid column as index\n",
    "df_pca.set_index(names, inplace=True)\n",
    "\n",
    "# Display sample data\n",
    "df_pca.head()"
   ]
  },
  {
   "attachments": {},
   "cell_type": "markdown",
   "metadata": {},
   "source": [
    "---"
   ]
  },
  {
   "attachments": {},
   "cell_type": "markdown",
   "metadata": {},
   "source": [
    "### Find the Best Value for k Using the PCA Data"
   ]
  },
  {
   "cell_type": "markdown",
   "metadata": {},
   "source": [
    "#### Elbow Curve A: Inertia Only, Range 1 to 11"
   ]
  },
  {
   "cell_type": "code",
   "execution_count": null,
   "metadata": {},
   "outputs": [],
   "source": [
    "# Define \"X\" - features to predict\n",
    "X = df_pca"
   ]
  },
  {
   "cell_type": "code",
   "execution_count": null,
   "metadata": {},
   "outputs": [],
   "source": [
    "# Create a list with the number of k-values from 1 to 11\n",
    "inertia_a = []\n",
    "\n",
    "# Create a list with the number of k-values from 1 to 11\n",
    "k_a = list(range(1, 11))\n",
    "\n",
    "# Create a for loop to compute the inertia with each possible value of k\n",
    "# Inside the loop:\n",
    "for i in k_a:\n",
    "    # 1. Create a KMeans model using the loop counter for the n_clusters\n",
    "    k_a_model = KMeans(n_clusters=i, random_state=1)\n",
    "    \n",
    "    # 2. Fit the model to the data using `df_pca`\n",
    "    k_a_model.fit(X)\n",
    "    \n",
    "    # predict the model\n",
    "    preds_a = k_a_model.predict(X)\n",
    "    \n",
    "    # 3. Append the model.inertia_ to the inertia list\n",
    "    inertia_a.append(k_a_model.inertia_)\n",
    "\n",
    "    print(f\"Finished {i} out of {max(k_a)}\")"
   ]
  },
  {
   "cell_type": "code",
   "execution_count": null,
   "metadata": {},
   "outputs": [],
   "source": [
    "# Create a dictionary with the data to plot the Elbow curve\n",
    "pca_elbow_data_a = {\"k\": k_a, \"inertia\": inertia_a}\n",
    "pca_df_elbow_a = pd.DataFrame(pca_elbow_data_a)\n",
    "\n",
    "pca_df_elbow_a[\"acc\"] = pca_df_elbow_a.inertia.diff()\n",
    "\n",
    "# Review the DataFrame\n",
    "pca_df_elbow_a.head(20)"
   ]
  },
  {
   "cell_type": "code",
   "execution_count": null,
   "metadata": {},
   "outputs": [],
   "source": [
    "# Plot a line chart with all the inertia values computed with \n",
    "# the different values of k to visually identify the optimal value for k.\n",
    "# using matplotlib\n",
    "plt.plot(pca_df_elbow_a[\"k\"], pca_df_elbow_a[\"inertia\"])\n",
    "plt.title(\"Elbow Curve A (PCA)\")\n",
    "plt.xticks(pca_df_elbow_a[\"k\"])\n",
    "plt.ylabel(\"inertia\")\n",
    "plt.xlabel(\"k\")\n",
    "plt.show()"
   ]
  },
  {
   "cell_type": "code",
   "execution_count": null,
   "metadata": {},
   "outputs": [],
   "source": [
    "# Plot a line chart with all the inertia values computed with \n",
    "# the different values of k to visually identify the optimal value for k.\n",
    "# using hv plot\n",
    "elbow_plot_pca = pca_df_elbow_a.hvplot.line(\n",
    "    width=600,\n",
    "    height=400,\n",
    "    x=\"k\", \n",
    "    y=\"inertia\", \n",
    "    title=\"Elbow Curve Using PCA Data\", \n",
    "    xticks=\"k\")\n",
    "elbow_plot_pca"
   ]
  },
  {
   "cell_type": "markdown",
   "metadata": {},
   "source": [
    "### Elbow Curve B: Inertia, Silhouette & Calinski Harabasz, Range 2 to 20 "
   ]
  },
  {
   "cell_type": "code",
   "execution_count": null,
   "metadata": {},
   "outputs": [],
   "source": [
    "#define X \n",
    "X = df_pca"
   ]
  },
  {
   "cell_type": "code",
   "execution_count": null,
   "metadata": {},
   "outputs": [],
   "source": [
    "#Booth's way\n",
    "# Create an empty list to store the inertia values\n",
    "inertia = []\n",
    "silhouettes = []\n",
    "cha_chas = []\n",
    "\n",
    "# Create a list with the number of k-values from 2 to 20\n",
    "k = list(range(2, 20))\n",
    "\n",
    "# Create a for loop to compute the inertia with each possible value of k\n",
    "# Inside the loop:\n",
    "for i in k:\n",
    "    # 1. Create a KMeans model using the loop counter for the n_clusters\n",
    "    k_model = KMeans(n_clusters=i, random_state=1)\n",
    "    \n",
    "    # 2. Fit the model to the data using `df_pca`\n",
    "    k_model.fit(X)\n",
    "    \n",
    "    # predict the model\n",
    "    preds = k_model.predict(X)\n",
    "    \n",
    "    # 3. Append the inertia, silhouete and cha scores to their lists\n",
    "    inertia.append(k_model.inertia_)\n",
    "    score = silhouette_score(X, preds)\n",
    "    silhouettes.append(score)\n",
    "    cha_cha = calinski_harabasz_score(X, preds)\n",
    "    cha_chas.append(cha_cha)\n",
    "    \n",
    "    print(f\"Finished {i} out of {max(k)}\")"
   ]
  },
  {
   "cell_type": "code",
   "execution_count": null,
   "metadata": {},
   "outputs": [],
   "source": [
    "# Create a dictionary with the data to plot the Elbow curve\n",
    "# Define a DataFrame to hold the values for k and the corresponding inertia\n",
    "pca_elbow_data = {\"k\": k, \"inertia\": inertia, \"silhouette_score\": silhouettes, \"cha_score\": cha_chas}\n",
    "pca_df_elbow = pd.DataFrame(pca_elbow_data)\n",
    "\n",
    "pca_df_elbow[\"acc\"] = pca_df_elbow.inertia.diff()\n",
    "\n",
    "# Review the DataFrame\n",
    "pca_df_elbow.head(20)"
   ]
  },
  {
   "cell_type": "code",
   "execution_count": null,
   "metadata": {},
   "outputs": [],
   "source": [
    "# Plot a line chart with all the inertia values computed with \n",
    "# the different values of k to visually identify the optimal value for k.\n",
    "# using matplot lib\n",
    "plt.plot(pca_df_elbow[\"k\"], pca_df_elbow[\"inertia\"])\n",
    "plt.title(\"Elbow Curve B (PCA)\")\n",
    "plt.xticks(pca_df_elbow[\"k\"])\n",
    "plt.ylabel(\"inertia\")\n",
    "plt.xlabel(\"k\")\n",
    "plt.show()"
   ]
  },
  {
   "attachments": {},
   "cell_type": "markdown",
   "metadata": {},
   "source": [
    "#### Answer the following questions: \n",
    "\n",
    "* **Question:** What is the best value for `k` when using the PCA data?\n",
    "\n",
    "  * **Answer:** 4\n",
    "\n",
    "\n",
    "* **Question:** Does it differ from the best k value found using the original data?\n",
    "\n",
    "  * **Answer:** No"
   ]
  },
  {
   "attachments": {},
   "cell_type": "markdown",
   "metadata": {},
   "source": [
    "### Cluster Cryptocurrencies with K-means Using the PCA Data"
   ]
  },
  {
   "cell_type": "code",
   "execution_count": null,
   "metadata": {},
   "outputs": [],
   "source": [
    "# Initialize the K-Means model using the best value for k\n",
    "model = KMeans(n_clusters=4, random_state=1)\n",
    "\n",
    "# Fit the K-Means model using the PCA data\n",
    "model.fit(X)\n",
    "\n",
    "# Predict the clusters to group the cryptocurrencies using the PCA data\n",
    "preds = model.predict(X)\n",
    "\n",
    "# Print the resulting array of cluster values.\n",
    "print(preds)"
   ]
  },
  {
   "cell_type": "code",
   "execution_count": null,
   "metadata": {},
   "outputs": [],
   "source": [
    "# Create a copy of the DataFrame with the PCA data\n",
    "df_pca_sub = df_pca.copy()\n",
    "\n",
    "# Predict the clusters to group the cryptocurrencies using the PCA data\n",
    "df_pca_sub['clusters'] = preds\n",
    "\n",
    "# Display sample data\n",
    "df_pca_sub.head()"
   ]
  },
  {
   "cell_type": "code",
   "execution_count": null,
   "metadata": {},
   "outputs": [],
   "source": [
    "# Create a scatter plot using hvPlot by setting \n",
    "# `x=\"PC1\"` and `y=\"PC2\"`. \n",
    "# Color the graph points with the labels found using K-Means and \n",
    "# add the crypto name in the `hover_cols` parameter to identify \n",
    "# the cryptocurrency represented by each data point.\n",
    "scatter_plot_pca = df_pca_sub.hvplot.scatter(\n",
    "    width=600,\n",
    "    height=400,\n",
    "    x=\"PC1\",\n",
    "    y=\"PC2\",\n",
    "    c=\"clusters\",\n",
    "    colormap='rainbow', #colormap, chat gbt\n",
    "    hover_cols=['coin_id']).opts(bgcolor='darkgray') #background, chat gbt\n",
    "scatter_plot_pca"
   ]
  },
  {
   "attachments": {},
   "cell_type": "markdown",
   "metadata": {},
   "source": [
    "### Visualize and Compare the Results\n",
    "\n",
    "In this section, you will visually analyze the cluster analysis results by contrasting the outcome with and without using the optimization techniques."
   ]
  },
  {
   "cell_type": "code",
   "execution_count": null,
   "metadata": {},
   "outputs": [],
   "source": [
    "# Composite plot to contrast the Elbow curves\n",
    "composite_elbow = elbow_plot + elbow_plot_pca\n",
    "composite_elbow"
   ]
  },
  {
   "cell_type": "code",
   "execution_count": null,
   "metadata": {},
   "outputs": [],
   "source": [
    "# Composite plot to contrast the clusters\n",
    "composite_scatter = scatter_plot + scatter_plot_pca\n",
    "composite_scatter"
   ]
  },
  {
   "attachments": {},
   "cell_type": "markdown",
   "metadata": {},
   "source": [
    "#### Answer the following question: \n",
    "\n",
    "  * **Question:** After visually analyzing the cluster analysis results, what is the impact of using fewer features to cluster the data using K-Means?\n",
    "\n",
    "  * **Answer:** Using fewer features (through PCA) does not significantly affect the performance of the K-Means clustering in this case. The clustering patterns are preserved, and the elbow curve indicates that the optimal number of clusters remains consistent."
   ]
  }
 ],
 "metadata": {
  "kernelspec": {
   "display_name": "Python 3 (ipykernel)",
   "language": "python",
   "name": "python3"
  },
  "language_info": {
   "codemirror_mode": {
    "name": "ipython",
    "version": 3
   },
   "file_extension": ".py",
   "mimetype": "text/x-python",
   "name": "python",
   "nbconvert_exporter": "python",
   "pygments_lexer": "ipython3",
   "version": "3.10.14"
  },
  "nteract": {
   "version": "0.28.0"
  },
  "vscode": {
   "interpreter": {
    "hash": "40d3a090f54c6569ab1632332b64b2c03c39dcf918b08424e98f38b5ae0af88f"
   }
  }
 },
 "nbformat": 4,
 "nbformat_minor": 4
}
